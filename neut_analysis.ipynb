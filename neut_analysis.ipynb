{
 "cells": [
  {
   "cell_type": "markdown",
   "metadata": {},
   "source": [
    "# 2B06 neutralization assay\n",
    "This analysis notebook analyses the neutralization assay data testing the potency of antibody D045-051310-2B06 to neutralize A/WSN/1933 H1N1 virus.\n",
    "\n",
    "The assays are assumed to be in 96-well plates, with a different sample\n",
    "type in each of the 8 rows (A to H) and the serum diluted across the 12\n",
    "columns (1 to 12). The highest serum concentration is in column 12 and\n",
    "it is serially diluted down to the lowest concentration in column 1. The\n",
    "samples are as follows:\n",
    "\n",
    "> * there are three replicates of the same virus\n",
    ">   and serum in rows D, E, and F\n",
    "\n",
    "> * rows C and G have the no-serum control\n",
    ">   used to establish the maximal signal in the absence of neutralization -\n",
    ">   row B has the virus-only control used to establish the background signal\n",
    ">   expected at full neutralization\n",
    "\n",
    "> * rows A and H have a media-only control\n",
    ">   that should have very low signal (these rows can also be empty)\n",
    "\n",
    "## Import Python packages¶\n",
    "First, import the necessary Python modules. In addition to the neutcurve package itself, we also use pandas to hold the data and pyyaml to parse the YAML configuration file:"
   ]
  },
  {
   "cell_type": "code",
   "execution_count": 1,
   "metadata": {},
   "outputs": [],
   "source": [
    "import os\n",
    "\n",
    "import pandas as pd\n",
    "\n",
    "import yaml\n",
    "\n",
    "import neutcurve\n",
    "import neutcurve.parse_excel"
   ]
  },
  {
   "cell_type": "markdown",
   "metadata": {},
   "source": [
    "Set output format of pandas Data Frames"
   ]
  },
  {
   "cell_type": "code",
   "execution_count": 2,
   "metadata": {},
   "outputs": [],
   "source": [
    "pd.set_option('display.float_format', '{:.3g}'.format)"
   ]
  },
  {
   "cell_type": "markdown",
   "metadata": {},
   "source": [
    "# Specify configuration of data\n",
    "\n",
    "In order to parse the raw experimental data in the Excel files, we need\n",
    "to describe how they are configured. The data can consist of one or more\n",
    "Excel files, each of which may have one or more sheets. Each sheet\n",
    "specifies three replicates of a virus against a serum as described\n",
    "above.\n",
    "\n",
    "In order to parse an Excel file, we need to supply the information taken\n",
    "by `neutcurve.parse_excel.parseRachelStyle2019()`. As described in\n",
    "the docs for that function, for each Excel file we need:\n",
    "\n",
    "* *excelfile*: the name of the Excel file\n",
    "\n",
    "* *sheet_mapping*: a dictionary keyed be the name of each sheet in\n",
    "  *excelfile* which in turn specifies:\n",
    "\n",
    "  * ‘serum’: name of serum\n",
    "\n",
    "  * ‘virus’: name of virus\n",
    "\n",
    "  * ‘initial_concentration’: highest concentration of serum\n",
    "\n",
    "  * ‘dilution_factor’: dilution factor in serial dilutions of serum\n",
    "\n",
    "You can specify this information in a [YAML\n",
    "format](https://docs.ansible.com/ansible/latest/reference_appendices/YAMLSyntax.html)\n",
    "file."
   ]
  },
  {
   "cell_type": "code",
   "execution_count": 3,
   "metadata": {},
   "outputs": [],
   "source": [
    "config_file = 'data/neut_data/2B06_neut_022019.yaml'"
   ]
  },
  {
   "cell_type": "markdown",
   "metadata": {},
   "source": [
    "<!-- Next cell sets right file path if running with pytest from top directory. -->\n",
    "Here are the contents of the YAML configuration file."
   ]
  },
  {
   "cell_type": "code",
   "execution_count": 4,
   "metadata": {},
   "outputs": [
    {
     "name": "stdout",
     "output_type": "stream",
     "text": [
      "- 20Feb19:\n",
      "    excelfile: data/neut_data/2B06_neut_analysis.xlsx\n",
      "    sheet_mapping:\n",
      "      2B06_WSN_wt:\n",
      "        serum: 2B06\n",
      "        virus: A/WSN/1933\n",
      "        dilution_factor: 5\n",
      "        initial_concentration: 200\n"
     ]
    }
   ],
   "source": [
    "with open(config_file) as f:\n",
    "    print(f.read().strip())"
   ]
  },
  {
   "cell_type": "markdown",
   "metadata": {},
   "source": [
    "We also need to specify the output directory where the results are\n",
    "written:"
   ]
  },
  {
   "cell_type": "code",
   "execution_count": 5,
   "metadata": {},
   "outputs": [],
   "source": [
    "outdir = 'results/neut_assays/'\n",
    "os.makedirs(outdir, exist_ok=True)"
   ]
  },
  {
   "cell_type": "markdown",
   "metadata": {},
   "source": [
    "# Read the data from the Excel files\n",
    "\n",
    "Now we read in the configuration specified in our *config_file* into the\n",
    "variable *config*, which will be a list of dicts:"
   ]
  },
  {
   "cell_type": "code",
   "execution_count": 6,
   "metadata": {},
   "outputs": [],
   "source": [
    "with open(config_file) as f:\n",
    "    config = yaml.safe_load(f)"
   ]
  },
  {
   "cell_type": "markdown",
   "metadata": {},
   "source": [
    "<!-- Next cell sets right excelfile path if running with pytest from top directory. -->\n",
    "Next, for each dict in *config*, we use\n",
    "`neutcurve.parse_excel.parseRachelStyle2019()` to create a tidy\n",
    "data frame appropriate for passing to\n",
    "`neutcurve.curvefits.CurveFits` as described in Fitting curves to real data.\n",
    "We then concatenate all the\n",
    "tidy data frame to get our neutralization data:"
   ]
  },
  {
   "cell_type": "code",
   "execution_count": 7,
   "metadata": {},
   "outputs": [
    {
     "name": "stdout",
     "output_type": "stream",
     "text": [
      "Parsing data for 20Feb19...\n",
      "Read data for 1 sera and 1 serum / virus pairs.\n"
     ]
    }
   ],
   "source": [
    "neutdata = []  # store all data frame, then concatenate at end\n",
    "\n",
    "for sampledict in config:\n",
    "    assert len(sampledict) == 1\n",
    "    sampleset, kwargs = list(sampledict.items())[0]\n",
    "    print(f\"Parsing data for {sampleset}...\")\n",
    "    neutdata.append(neutcurve.parse_excel.parseRachelStyle2019(**kwargs))\n",
    "\n",
    "neutdata = pd.concat(neutdata)\n",
    "print(f\"Read data for {len(neutdata.groupby('serum'))} sera and \"\n",
    "      f\"{len(neutdata.groupby(['serum', 'virus']))} serum / virus pairs.\")"
   ]
  },
  {
   "cell_type": "markdown",
   "metadata": {},
   "source": [
    "We write the neutralization data to a CSV file in our output directory:"
   ]
  },
  {
   "cell_type": "code",
   "execution_count": 8,
   "metadata": {},
   "outputs": [
    {
     "name": "stdout",
     "output_type": "stream",
     "text": [
      "Wrote neutralization data to results/neut_assays/neutdata.csv\n"
     ]
    }
   ],
   "source": [
    "neutdatafile = os.path.join(outdir, 'neutdata.csv')\n",
    "neutdata.to_csv(neutdatafile, index=False)\n",
    "print(f\"Wrote neutralization data to {neutdatafile}\")"
   ]
  },
  {
   "cell_type": "markdown",
   "metadata": {},
   "source": [
    "# Fit and analyze the curves\n",
    "\n",
    "Now we can simply fit the data in *neutdata* with a\n",
    "`neutcurve.curvefits.CurveFits` as in Fitting curves to real data:"
   ]
  },
  {
   "cell_type": "code",
   "execution_count": 9,
   "metadata": {},
   "outputs": [],
   "source": [
    "fits = neutcurve.CurveFits(neutdata)"
   ]
  },
  {
   "cell_type": "markdown",
   "metadata": {},
   "source": [
    "Make plots that show the curves for all replicates for each serum / virus combination:"
   ]
  },
  {
   "cell_type": "code",
   "execution_count": 10,
   "metadata": {},
   "outputs": [
    {
     "data": {
      "image/png": "[encoded data removed]",
      "text/plain": [
       "<Figure size 288x234 with 2 Axes>"
      ]
     },
     "metadata": {
      "needs_background": "light"
     },
     "output_type": "display_data"
    }
   ],
   "source": [
    "fig_reps, _ = fits.plotReplicates(legendtitle='replicate',\n",
    "                                  xlabel='serum dilution')"
   ]
  },
  {
   "cell_type": "code",
   "execution_count": 11,
   "metadata": {},
   "outputs": [
    {
     "data": {
      "image/png": "[encoded data removed]",
      "text/plain": [
       "<Figure size 288x234 with 2 Axes>"
      ]
     },
     "metadata": {
      "needs_background": "light"
     },
     "output_type": "display_data"
    }
   ],
   "source": [
    "fig_avgs, _ = fits.plotAverages(xlabel='serum dilution')"
   ]
  },
  {
   "cell_type": "markdown",
   "metadata": {},
   "source": [
    "Make plots that show all viruses for each serum. Note that for this\n",
    "particular dataset, this plot isn’t really any different than the one\n",
    "above–but we make it here because it will be different for datasets that\n",
    "involve multiple different viruses:|"
   ]
  },
  {
   "cell_type": "code",
   "execution_count": 12,
   "metadata": {},
   "outputs": [
    {
     "data": {
      "image/png": "[encoded data removed]",
      "text/plain": [
       "<Figure size 288x234 with 2 Axes>"
      ]
     },
     "metadata": {
      "needs_background": "light"
     },
     "output_type": "display_data"
    }
   ],
   "source": [
    "fig_sera, _ = fits.plotSera(legendtitle='virus',\n",
    "                            xlabel='serum dilution')"
   ]
  },
  {
   "cell_type": "markdown",
   "metadata": {},
   "source": [
    "Now we write all of the plots to PDF files:"
   ]
  },
  {
   "cell_type": "code",
   "execution_count": 13,
   "metadata": {},
   "outputs": [
    {
     "name": "stdout",
     "output_type": "stream",
     "text": [
      "Creating plot results/neut_assays/replicates_plot.pdf\n",
      "Creating plot results/neut_assays/average_plot.pdf\n",
      "Creating plot results/neut_assays/sera_plot.pdf\n"
     ]
    }
   ],
   "source": [
    "for plotname, fig in [('replicates_plot', fig_reps),\n",
    "                      ('average_plot', fig_avgs),\n",
    "                      ('sera_plot', fig_sera)]:\n",
    "    plotfile = os.path.join(outdir, plotname + '.pdf')\n",
    "    print(f\"Creating plot {plotfile}\")\n",
    "    fig.savefig(plotfile)"
   ]
  },
  {
   "cell_type": "markdown",
   "metadata": {},
   "source": [
    "We also look at the numerical values of the fit parameters, including the IC50s:"
   ]
  },
  {
   "cell_type": "code",
   "execution_count": 14,
   "metadata": {},
   "outputs": [
    {
     "data": {
      "text/html": [
       "<div>\n",
       "<style scoped>\n",
       "    .dataframe tbody tr th:only-of-type {\n",
       "        vertical-align: middle;\n",
       "    }\n",
       "\n",
       "    .dataframe tbody tr th {\n",
       "        vertical-align: top;\n",
       "    }\n",
       "\n",
       "    .dataframe thead th {\n",
       "        text-align: right;\n",
       "    }\n",
       "</style>\n",
       "<table border=\"1\" class=\"dataframe\">\n",
       "  <thead>\n",
       "    <tr style=\"text-align: right;\">\n",
       "      <th></th>\n",
       "      <th>serum</th>\n",
       "      <th>virus</th>\n",
       "      <th>replicate</th>\n",
       "      <th>nreplicates</th>\n",
       "      <th>ic50</th>\n",
       "      <th>ic50_bound</th>\n",
       "      <th>ic50_str</th>\n",
       "      <th>midpoint</th>\n",
       "      <th>slope</th>\n",
       "      <th>top</th>\n",
       "      <th>bottom</th>\n",
       "    </tr>\n",
       "  </thead>\n",
       "  <tbody>\n",
       "    <tr>\n",
       "      <th>0</th>\n",
       "      <td>2B06</td>\n",
       "      <td>A/WSN/1933</td>\n",
       "      <td>average</td>\n",
       "      <td>3</td>\n",
       "      <td>1.54</td>\n",
       "      <td>interpolated</td>\n",
       "      <td>1.54</td>\n",
       "      <td>1.54</td>\n",
       "      <td>1.37</td>\n",
       "      <td>1</td>\n",
       "      <td>0</td>\n",
       "    </tr>\n",
       "  </tbody>\n",
       "</table>\n",
       "</div>"
      ],
      "text/plain": [
       "  serum       virus replicate  nreplicates  ic50    ic50_bound ic50_str  \\\n",
       "0  2B06  A/WSN/1933   average            3  1.54  interpolated     1.54   \n",
       "\n",
       "   midpoint  slope  top  bottom  \n",
       "0      1.54   1.37    1       0  "
      ]
     },
     "execution_count": 14,
     "metadata": {},
     "output_type": "execute_result"
    }
   ],
   "source": [
    "fits.fitParams()"
   ]
  },
  {
   "cell_type": "markdown",
   "metadata": {},
   "source": [
    "We write these fit parameters to a CSV file:"
   ]
  },
  {
   "cell_type": "code",
   "execution_count": 15,
   "metadata": {},
   "outputs": [
    {
     "name": "stdout",
     "output_type": "stream",
     "text": [
      "Wrote fit parameters to results/neut_assays/fitparams.csv\n"
     ]
    }
   ],
   "source": [
    "fitfile = os.path.join(outdir, 'fitparams.csv')\n",
    "fits.fitParams().to_csv(fitfile, index=False)\n",
    "print(f\"Wrote fit parameters to {fitfile}\")"
   ]
  },
  {
   "cell_type": "markdown",
   "metadata": {},
   "source": [
    "So overall, this analysis has created several plots and CSV files in\n",
    "*outdir*:"
   ]
  },
  {
   "cell_type": "code",
   "execution_count": 16,
   "metadata": {},
   "outputs": [
    {
     "name": "stdout",
     "output_type": "stream",
     "text": [
      "Here are the created files in results/neut_assays/:\n",
      "  average_plot.pdf\n",
      "  fitparams.csv\n",
      "  neutdata.csv\n",
      "  replicates_plot.pdf\n",
      "  sera_plot.pdf\n"
     ]
    }
   ],
   "source": [
    "print(f\"Here are the created files in {outdir}:\\n  \" +\n",
    "      '\\n  '.join(sorted(os.listdir(outdir))))"
   ]
  },
  {
   "cell_type": "code",
   "execution_count": null,
   "metadata": {},
   "outputs": [],
   "source": []
  }
 ],
 "metadata": {
  "kernelspec": {
   "display_name": "Python 3",
   "language": "python",
   "name": "python3"
  },
  "language_info": {
   "codemirror_mode": {
    "name": "ipython",
    "version": 3
   },
   "file_extension": ".py",
   "mimetype": "text/x-python",
   "name": "python",
   "nbconvert_exporter": "python",
   "pygments_lexer": "ipython3",
   "version": "3.6.7"
  },
  "toc": {
   "base_numbering": 1,
   "nav_menu": {},
   "number_sections": false,
   "sideBar": true,
   "skip_h1_title": false,
   "title_cell": "Table of Contents",
   "title_sidebar": "Contents",
   "toc_cell": false,
   "toc_position": {},
   "toc_section_display": true,
   "toc_window_display": true
  }
 },
 "nbformat": 4,
 "nbformat_minor": 2
}
