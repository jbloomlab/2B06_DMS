{
 "cells": [
  {
   "cell_type": "markdown",
   "metadata": {},
   "source": [
    "## Uploading the deep-sequencing data from 2B06 mutational antigenic profiling\n",
    "\n",
    "This notebook describes how I am uploading the deep-sequencing data for the mutational antigenic profiling of 2B06 with Perth09 HA libraries.\n",
    "\n",
    "Lauren Gentles, December 23, 2020\n",
    "\n",
    "## Compile metadata on all the samples\n",
    "\n",
    "First, I will make an outfile with metadata for each sample. "
   ]
  },
  {
   "cell_type": "code",
   "execution_count": 18,
   "metadata": {
    "execution": {
     "iopub.execute_input": "2020-12-24T02:57:10.150787Z",
     "iopub.status.busy": "2020-12-24T02:57:10.150245Z",
     "iopub.status.idle": "2020-12-24T02:57:10.178709Z",
     "shell.execute_reply": "2020-12-24T02:57:10.177804Z",
     "shell.execute_reply.started": "2020-12-24T02:57:10.150737Z"
    }
   },
   "outputs": [
    {
     "name": "stdout",
     "output_type": "stream",
     "text": [
      "\n",
      "Getting metadata for 2B06-Lib.1. Here is a list of all fastq file basenames:\n",
      "2B06-50ug_S1_L001_R1_001.fastq.gz\n",
      "2B06-50ug_S1_L001_R2_001.fastq.gz\n"
     ]
    },
    {
     "ename": "TypeError",
     "evalue": "can only concatenate list (not \"str\") to list",
     "output_type": "error",
     "traceback": [
      "\u001b[0;31m---------------------------------------------------------------------------\u001b[0m",
      "\u001b[0;31mTypeError\u001b[0m                                 Traceback (most recent call last)",
      "\u001b[0;32m<ipython-input-18-c29e1c6fa951>\u001b[0m in \u001b[0;36m<module>\u001b[0;34m\u001b[0m\n\u001b[1;32m     38\u001b[0m \u001b[0;34m\u001b[0m\u001b[0m\n\u001b[1;32m     39\u001b[0m         \u001b[0;31m# Make entry in the metadata file for sample\u001b[0m\u001b[0;34m\u001b[0m\u001b[0;34m\u001b[0m\u001b[0;34m\u001b[0m\u001b[0m\n\u001b[0;32m---> 40\u001b[0;31m         \u001b[0msample_line\u001b[0m \u001b[0;34m=\u001b[0m \u001b[0;34m' \\tPerth 2009 H3 library 2B06 profiling\\t{0}\\tdeep sequencing of library\\tAMPLICON\\tOTHER\\tPCR\\tpaired\\tILLUMINA\\tIllumina HiSeq 2500\\tbarcoded-subamplicon sequencing\\tfastq\\t'\u001b[0m\u001b[0;34m.\u001b[0m\u001b[0mformat\u001b[0m\u001b[0;34m(\u001b[0m\u001b[0ms\u001b[0m\u001b[0;34m)\u001b[0m \u001b[0;34m+\u001b[0m \u001b[0;34m'\\t'\u001b[0m\u001b[0;34m.\u001b[0m\u001b[0mjoin\u001b[0m\u001b[0;34m(\u001b[0m\u001b[0mf1s\u001b[0m \u001b[0;34m+\u001b[0m \u001b[0;34m','\u001b[0m \u001b[0;34m+\u001b[0m \u001b[0mf2s\u001b[0m\u001b[0;34m)\u001b[0m \u001b[0;34m+\u001b[0m \u001b[0;34m'\\n'\u001b[0m\u001b[0;34m\u001b[0m\u001b[0;34m\u001b[0m\u001b[0m\n\u001b[0m\u001b[1;32m     41\u001b[0m         \u001b[0mf\u001b[0m\u001b[0;34m.\u001b[0m\u001b[0mwrite\u001b[0m\u001b[0;34m(\u001b[0m\u001b[0msample_line\u001b[0m\u001b[0;34m.\u001b[0m\u001b[0mreplace\u001b[0m\u001b[0;34m(\u001b[0m\u001b[0;34m'\\t'\u001b[0m\u001b[0;34m,\u001b[0m \u001b[0;34m','\u001b[0m\u001b[0;34m)\u001b[0m\u001b[0;34m)\u001b[0m\u001b[0;34m\u001b[0m\u001b[0;34m\u001b[0m\u001b[0m\n",
      "\u001b[0;31mTypeError\u001b[0m: can only concatenate list (not \"str\") to list"
     ]
    }
   ],
   "source": [
    "# Import python modules\n",
    "import glob\n",
    "import os\n",
    "import sys\n",
    "import pandas\n",
    "\n",
    "# Global variables\n",
    "samples = pandas.read_csv('data/samplelist.csv')\n",
    "samples['name'] = samples.selection + '-' + samples.library\n",
    "metadata_f = 'metadata.txt'\n",
    "\n",
    "# List of fastq directories\n",
    "fastqdirs = ['/fh/fast/bloom_j/SR/ngs/illumina/bloom_lab/190524_M04866_0253_000000000-CGDFR_new-demux/Data/Intensities/BaseCalls/*/']\n",
    "\n",
    "# Compile metadata on each sample, including names of all fastq files for that sample\n",
    "with open(metadata_f, 'w') as f:\n",
    "    # Write first line in metadata file\n",
    "    first_line = 'bioproject_accession\\tsample_name\\tlibrary_ID\\ttitle\\tlibrary_strategy\\tlibrary_source\\tlibrary_selection\\tlibrary_layout\\tplatform\\tinstrument_model\\tdesign_description\\tfiletype\\tfilename\\tfilename2\\tfilename3\\tfilename4\\tfilename5\\tfilename6\\tfilename7\\tfilename8\\tfilename9\\tfilename10\\tfilename11\\tfilename12\\tfilename13\\tfilename14\\n'\n",
    "    f.write(first_line.replace('\\t', ','))\n",
    "    \n",
    "    # Make rest of entries in file\n",
    "    all_fastq_files = []\n",
    "    all_fastq_files.clear()\n",
    "    for s in samples['name']:\n",
    "        # Find all fastq files for a given sample\n",
    "        print(\"\\nGetting metadata for {0}. Here is a list of all fastq file basenames:\".format(s))\n",
    "        f1s = samples.loc[samples['name'] == s, 'R1'].tolist()\n",
    "        f2s = [f1.replace('_R1_', '_R2_') for f1 in f1s]\n",
    "        for (f1, f2) in zip(f1s, f2s):\n",
    "            assert os.path.isfile(f1) and os.path.isfile(f2)\n",
    "            #assert '{0}'.format(s) in f1 and '{0}'.format(s) in f2\n",
    "            print (os.path.basename(f1))\n",
    "            print (os.path.basename(f2))\n",
    "            \n",
    "        # Append fastq files for sample to list of all fastq files\n",
    "        all_fastq_files.extend(f1s)\n",
    "        all_fastq_files.extend(f2s)\n",
    "\n",
    "        # Make entry in the metadata file for sample\n",
    "        sample_line = ' \\tPerth 2009 H3 library 2B06 profiling\\t{0}\\tdeep sequencing of library\\tAMPLICON\\tOTHER\\tPCR\\tpaired\\tILLUMINA\\tIllumina HiSeq 2500\\tbarcoded-subamplicon sequencing\\tfastq\\t'.format(s) + '\\t'.join(f1s) + '\\t' + '\\t]f2s) + '\\n'\n",
    "        f.write(sample_line.replace('\\t', ','))"
   ]
  },
  {
   "cell_type": "code",
   "execution_count": 15,
   "metadata": {
    "execution": {
     "iopub.execute_input": "2020-12-24T02:55:15.189208Z",
     "iopub.status.busy": "2020-12-24T02:55:15.188625Z",
     "iopub.status.idle": "2020-12-24T02:55:15.326283Z",
     "shell.execute_reply": "2020-12-24T02:55:15.324776Z",
     "shell.execute_reply.started": "2020-12-24T02:55:15.189157Z"
    }
   },
   "outputs": [
    {
     "name": "stdout",
     "output_type": "stream",
     "text": [
      "bioproject_accession,sample_name,library_ID,title,library_strategy,library_source,library_selection,library_layout,platform,instrument_model,design_description,filetype,filename,filename2,filename3,filename4,filename5,filename6,filename7,filename8,filename9,filename10,filename11,filename12,filename13,filename14\n",
      " ,Perth 2009 H3 library 2B06 profiling,2B06-Lib.1,deep sequencing of library,AMPLICON,OTHER,PCR,paired,ILLUMINA,Illumina HiSeq 2500,barcoded-subamplicon sequencing,fastq,/fh/fast/bloom_j/SR/ngs/illumina/lgentles/190419_M03100_0418_000000000-CCW7R/Data/Intensities/BaseCalls/2B06-50ug_S1_L001_R1_001.fastq.gz,/fh/fast/bloom_j/SR/ngs/illumina/lgentles/190419_M03100_0418_000000000-CCW7R/Data/Intensities/BaseCalls/2B06-50ug_S1_L001_R2_001.fastq.gz\n",
      " ,Perth 2009 H3 library 2B06 profiling,Mock-Lib.1,deep sequencing of library,AMPLICON,OTHER,PCR,paired,ILLUMINA,Illumina HiSeq 2500,barcoded-subamplicon sequencing,fastq,/fh/fast/bloom_j/SR/ngs/illumina/lgentles/190419_M03100_0418_000000000-CCW7R/Data/Intensities/BaseCalls/Lib1-mock-rep2_S3_L001_R1_001.fastq.gz,/fh/fast/bloom_j/SR/ngs/illumina/lgentles/190419_M03100_0418_000000000-CCW7R/Data/Intensities/BaseCalls/Lib1-mock-rep2_S3_L001_R2_001.fastq.gz\n",
      " ,Perth 2009 H3 library 2B06 profiling,WSN-plasmid- ,deep sequencing of library,AMPLICON,OTHER,PCR,paired,ILLUMINA,Illumina HiSeq 2500,barcoded-subamplicon sequencing,fastq,/fh/fast/bloom_j/SR/ngs/illumina/lgentles/190419_M03100_0418_000000000-CCW7R/Data/Intensities/BaseCalls/WSN-HA-plasmid_S2_L001_R1_001.fastq.gz,/fh/fast/bloom_j/SR/ngs/illumina/lgentles/190419_M03100_0418_000000000-CCW7R/Data/Intensities/BaseCalls/WSN-HA-plasmid_S2_L001_R2_001.fastq.gz\n",
      " ,Perth 2009 H3 library 2B06 profiling,2B06-Lib.2,deep sequencing of library,AMPLICON,OTHER,PCR,paired,ILLUMINA,Illumina HiSeq 2500,barcoded-subamplicon sequencing,fastq,/fh/fast/bloom_j/SR/ngs/illumina/bloom_lab/190524_M04866_0253_000000000-CGDFR_new-demux/Data/Intensities/BaseCalls/Lib2-2B06-25ug_S1_L001_R1_001.fastq.gz,/fh/fast/bloom_j/SR/ngs/illumina/bloom_lab/190524_M04866_0253_000000000-CGDFR_new-demux/Data/Intensities/BaseCalls/Lib2-2B06-25ug_S1_L001_R2_001.fastq.gz\n",
      " ,Perth 2009 H3 library 2B06 profiling,Mock-Lib.2,deep sequencing of library,AMPLICON,OTHER,PCR,paired,ILLUMINA,Illumina HiSeq 2500,barcoded-subamplicon sequencing,fastq,/fh/fast/bloom_j/SR/ngs/illumina/bloom_lab/190524_M04866_0253_000000000-CGDFR_new-demux/Data/Intensities/BaseCalls/Lib2-mock_S2_L001_R1_001.fastq.gz,/fh/fast/bloom_j/SR/ngs/illumina/bloom_lab/190524_M04866_0253_000000000-CGDFR_new-demux/Data/Intensities/BaseCalls/Lib2-mock_S2_L001_R2_001.fastq.gz\n",
      " ,Perth 2009 H3 library 2B06 profiling,2B06-Lib.3,deep sequencing of library,AMPLICON,OTHER,PCR,paired,ILLUMINA,Illumina HiSeq 2500,barcoded-subamplicon sequencing,fastq,/fh/fast/bloom_j/SR/ngs/illumina/bloom_lab/190524_M04866_0253_000000000-CGDFR_new-demux/Data/Intensities/BaseCalls/Lib3-2B06-25ug_S3_L001_R1_001.fastq.gz,/fh/fast/bloom_j/SR/ngs/illumina/bloom_lab/190524_M04866_0253_000000000-CGDFR_new-demux/Data/Intensities/BaseCalls/Lib3-2B06-25ug_S3_L001_R2_001.fastq.gz\n",
      " ,Perth 2009 H3 library 2B06 profiling,Mock-Lib.3,deep sequencing of library,AMPLICON,OTHER,PCR,paired,ILLUMINA,Illumina HiSeq 2500,barcoded-subamplicon sequencing,fastq,/fh/fast/bloom_j/SR/ngs/illumina/bloom_lab/190524_M04866_0253_000000000-CGDFR_new-demux/Data/Intensities/BaseCalls/Lib3-mock_S4_L001_R1_001.fastq.gz,/fh/fast/bloom_j/SR/ngs/illumina/bloom_lab/190524_M04866_0253_000000000-CGDFR_new-demux/Data/Intensities/BaseCalls/Lib3-mock_S4_L001_R2_001.fastq.gz\n",
      " ,Perth 2009 H3 library 2B06 profiling,WSN-HA-plasmid- ,deep sequencing of library,AMPLICON,OTHER,PCR,paired,ILLUMINA,Illumina HiSeq 2500,barcoded-subamplicon sequencing,fastq,/fh/fast/bloom_j/SR/ngs/illumina/bloom_lab/190524_M04866_0253_000000000-CGDFR_new-demux/Data/Intensities/BaseCalls/WSN-HA-plasmid_S5_L001_R1_001.fastq.gz,/fh/fast/bloom_j/SR/ngs/illumina/bloom_lab/190524_M04866_0253_000000000-CGDFR_new-demux/Data/Intensities/BaseCalls/WSN-HA-plasmid_S5_L001_R2_001.fastq.gz\n"
     ]
    }
   ],
   "source": [
    "cat metadata.txt"
   ]
  },
  {
   "cell_type": "markdown",
   "metadata": {},
   "source": [
    "## Pre-upload the fastq files\n",
    "\n",
    "Then I make a `.tar` of the `.fastq` files for all samples"
   ]
  },
  {
   "cell_type": "code",
   "execution_count": 13,
   "metadata": {
    "execution": {
     "iopub.execute_input": "2020-12-24T02:54:07.144592Z",
     "iopub.status.busy": "2020-12-24T02:54:07.144047Z",
     "iopub.status.idle": "2020-12-24T02:54:49.426988Z",
     "shell.execute_reply": "2020-12-24T02:54:49.425689Z",
     "shell.execute_reply.started": "2020-12-24T02:54:07.144542Z"
    }
   },
   "outputs": [
    {
     "name": "stdout",
     "output_type": "stream",
     "text": [
      "Making a tar file of FASTQ files with the following command:\n",
      "tar -cvf A_Perth_2009_MAP_2B06_fastq.tar /fh/fast/bloom_j/SR/ngs/illumina/lgentles/190419_M03100_0418_000000000-CCW7R/Data/Intensities/BaseCalls/2B06-50ug_S1_L001_R1_001.fastq.gz, /fh/fast/bloom_j/SR/ngs/illumina/lgentles/190419_M03100_0418_000000000-CCW7R/Data/Intensities/BaseCalls/2B06-50ug_S1_L001_R2_001.fastq.gz /fh/fast/bloom_j/SR/ngs/illumina/lgentles/190419_M03100_0418_000000000-CCW7R/Data/Intensities/BaseCalls/Lib1-mock-rep2_S3_L001_R1_001.fastq.gz, /fh/fast/bloom_j/SR/ngs/illumina/lgentles/190419_M03100_0418_000000000-CCW7R/Data/Intensities/BaseCalls/Lib1-mock-rep2_S3_L001_R2_001.fastq.gz /fh/fast/bloom_j/SR/ngs/illumina/lgentles/190419_M03100_0418_000000000-CCW7R/Data/Intensities/BaseCalls/WSN-HA-plasmid_S2_L001_R1_001.fastq.gz, /fh/fast/bloom_j/SR/ngs/illumina/lgentles/190419_M03100_0418_000000000-CCW7R/Data/Intensities/BaseCalls/WSN-HA-plasmid_S2_L001_R2_001.fastq.gz /fh/fast/bloom_j/SR/ngs/illumina/bloom_lab/190524_M04866_0253_000000000-CGDFR_new-demux/Data/Intensities/BaseCalls/Lib2-2B06-25ug_S1_L001_R1_001.fastq.gz, /fh/fast/bloom_j/SR/ngs/illumina/bloom_lab/190524_M04866_0253_000000000-CGDFR_new-demux/Data/Intensities/BaseCalls/Lib2-2B06-25ug_S1_L001_R2_001.fastq.gz /fh/fast/bloom_j/SR/ngs/illumina/bloom_lab/190524_M04866_0253_000000000-CGDFR_new-demux/Data/Intensities/BaseCalls/Lib2-mock_S2_L001_R1_001.fastq.gz, /fh/fast/bloom_j/SR/ngs/illumina/bloom_lab/190524_M04866_0253_000000000-CGDFR_new-demux/Data/Intensities/BaseCalls/Lib2-mock_S2_L001_R2_001.fastq.gz /fh/fast/bloom_j/SR/ngs/illumina/bloom_lab/190524_M04866_0253_000000000-CGDFR_new-demux/Data/Intensities/BaseCalls/Lib3-2B06-25ug_S3_L001_R1_001.fastq.gz, /fh/fast/bloom_j/SR/ngs/illumina/bloom_lab/190524_M04866_0253_000000000-CGDFR_new-demux/Data/Intensities/BaseCalls/Lib3-2B06-25ug_S3_L001_R2_001.fastq.gz /fh/fast/bloom_j/SR/ngs/illumina/bloom_lab/190524_M04866_0253_000000000-CGDFR_new-demux/Data/Intensities/BaseCalls/Lib3-mock_S4_L001_R1_001.fastq.gz, /fh/fast/bloom_j/SR/ngs/illumina/bloom_lab/190524_M04866_0253_000000000-CGDFR_new-demux/Data/Intensities/BaseCalls/Lib3-mock_S4_L001_R2_001.fastq.gz /fh/fast/bloom_j/SR/ngs/illumina/bloom_lab/190524_M04866_0253_000000000-CGDFR_new-demux/Data/Intensities/BaseCalls/WSN-HA-plasmid_S5_L001_R1_001.fastq.gz, /fh/fast/bloom_j/SR/ngs/illumina/bloom_lab/190524_M04866_0253_000000000-CGDFR_new-demux/Data/Intensities/BaseCalls/WSN-HA-plasmid_S5_L001_R2_001.fastq.gz\n",
      "tar: Removing leading `/' from member names\n",
      "tar: /fh/fast/bloom_j/SR/ngs/illumina/lgentles/190419_M03100_0418_000000000-CCW7R/Data/Intensities/BaseCalls/2B06-50ug_S1_L001_R1_001.fastq.gz,: Cannot stat: No such file or directory\n",
      "/fh/fast/bloom_j/SR/ngs/illumina/lgentles/190419_M03100_0418_000000000-CCW7R/Data/Intensities/BaseCalls/2B06-50ug_S1_L001_R2_001.fastq.gz\n",
      "tar: /fh/fast/bloom_j/SR/ngs/illumina/lgentles/190419_M03100_0418_000000000-CCW7R/Data/Intensities/BaseCalls/Lib1-mock-rep2_S3_L001_R1_001.fastq.gz,: Cannot stat: No such file or directory\n",
      "/fh/fast/bloom_j/SR/ngs/illumina/lgentles/190419_M03100_0418_000000000-CCW7R/Data/Intensities/BaseCalls/Lib1-mock-rep2_S3_L001_R2_001.fastq.gz\n",
      "tar: /fh/fast/bloom_j/SR/ngs/illumina/lgentles/190419_M03100_0418_000000000-CCW7R/Data/Intensities/BaseCalls/WSN-HA-plasmid_S2_L001_R1_001.fastq.gz,: Cannot stat: No such file or directory\n",
      "/fh/fast/bloom_j/SR/ngs/illumina/lgentles/190419_M03100_0418_000000000-CCW7R/Data/Intensities/BaseCalls/WSN-HA-plasmid_S2_L001_R2_001.fastq.gz\n",
      "tar: /fh/fast/bloom_j/SR/ngs/illumina/bloom_lab/190524_M04866_0253_000000000-CGDFR_new-demux/Data/Intensities/BaseCalls/Lib2-2B06-25ug_S1_L001_R1_001.fastq.gz,: Cannot stat: No such file or directory\n",
      "/fh/fast/bloom_j/SR/ngs/illumina/bloom_lab/190524_M04866_0253_000000000-CGDFR_new-demux/Data/Intensities/BaseCalls/Lib2-2B06-25ug_S1_L001_R2_001.fastq.gz\n",
      "tar: /fh/fast/bloom_j/SR/ngs/illumina/bloom_lab/190524_M04866_0253_000000000-CGDFR_new-demux/Data/Intensities/BaseCalls/Lib2-mock_S2_L001_R1_001.fastq.gz,: Cannot stat: No such file or directory\n",
      "/fh/fast/bloom_j/SR/ngs/illumina/bloom_lab/190524_M04866_0253_000000000-CGDFR_new-demux/Data/Intensities/BaseCalls/Lib2-mock_S2_L001_R2_001.fastq.gz\n",
      "tar: /fh/fast/bloom_j/SR/ngs/illumina/bloom_lab/190524_M04866_0253_000000000-CGDFR_new-demux/Data/Intensities/BaseCalls/Lib3-2B06-25ug_S3_L001_R1_001.fastq.gz,: Cannot stat: No such file or directory\n",
      "/fh/fast/bloom_j/SR/ngs/illumina/bloom_lab/190524_M04866_0253_000000000-CGDFR_new-demux/Data/Intensities/BaseCalls/Lib3-2B06-25ug_S3_L001_R2_001.fastq.gz\n",
      "tar: /fh/fast/bloom_j/SR/ngs/illumina/bloom_lab/190524_M04866_0253_000000000-CGDFR_new-demux/Data/Intensities/BaseCalls/Lib3-mock_S4_L001_R1_001.fastq.gz,: Cannot stat: No such file or directory\n",
      "/fh/fast/bloom_j/SR/ngs/illumina/bloom_lab/190524_M04866_0253_000000000-CGDFR_new-demux/Data/Intensities/BaseCalls/Lib3-mock_S4_L001_R2_001.fastq.gz\n",
      "tar: /fh/fast/bloom_j/SR/ngs/illumina/bloom_lab/190524_M04866_0253_000000000-CGDFR_new-demux/Data/Intensities/BaseCalls/WSN-HA-plasmid_S5_L001_R1_001.fastq.gz,: Cannot stat: No such file or directory\n",
      "/fh/fast/bloom_j/SR/ngs/illumina/bloom_lab/190524_M04866_0253_000000000-CGDFR_new-demux/Data/Intensities/BaseCalls/WSN-HA-plasmid_S5_L001_R2_001.fastq.gz\n",
      "tar: Exiting with failure status due to previous errors\n"
     ]
    }
   ],
   "source": [
    "# Make a tar of all gzipped fastq files\n",
    "tar_file_name = 'A_Perth_2009_MAP_2B06_fastq.tar'\n",
    "tar_cmd = ' '.join([\n",
    "                    'tar',\n",
    "                    '-cvf',\n",
    "                    tar_file_name] + all_fastq_files)\n",
    "\n",
    "print(\"Making a tar file of FASTQ files with the following command:\\n\"+tar_cmd)\n",
    "!$tar_cmd"
   ]
  },
  {
   "cell_type": "markdown",
   "metadata": {},
   "source": [
    "Next, I move the `.tar` file to its own subdirectory `fastq_files` so that I only transfer the fastq files with Aspera (see below)."
   ]
  },
  {
   "cell_type": "code",
   "execution_count": 68,
   "metadata": {},
   "outputs": [
    {
     "name": "stdout",
     "output_type": "stream",
     "text": [
      "mv: cannot stat 'A_Perth_2009_MAP_2B06_fastq.tar': No such file or directory\n"
     ]
    }
   ],
   "source": [
    "!mkdir fastq_files\n",
    "!mv A_Perth_2009_MAP_2B06_fastq.tar fastq_files/"
   ]
  },
  {
   "cell_type": "code",
   "execution_count": null,
   "metadata": {},
   "outputs": [],
   "source": []
  }
 ],
 "metadata": {
  "kernelspec": {
   "display_name": "Python 3",
   "language": "python",
   "name": "python3"
  },
  "language_info": {
   "codemirror_mode": {
    "name": "ipython",
    "version": 3
   },
   "file_extension": ".py",
   "mimetype": "text/x-python",
   "name": "python",
   "nbconvert_exporter": "python",
   "pygments_lexer": "ipython3",
   "version": "3.8.5"
  },
  "toc": {
   "base_numbering": 1,
   "nav_menu": {},
   "number_sections": true,
   "sideBar": true,
   "skip_h1_title": false,
   "title_cell": "Table of Contents",
   "title_sidebar": "Contents",
   "toc_cell": false,
   "toc_position": {},
   "toc_section_display": true,
   "toc_window_display": false
  },
  "varInspector": {
   "cols": {
    "lenName": 16,
    "lenType": 16,
    "lenVar": 40
   },
   "kernels_config": {
    "python": {
     "delete_cmd_postfix": "",
     "delete_cmd_prefix": "del ",
     "library": "var_list.py",
     "varRefreshCmd": "print(var_dic_list())"
    },
    "r": {
     "delete_cmd_postfix": ") ",
     "delete_cmd_prefix": "rm(",
     "library": "var_list.r",
     "varRefreshCmd": "cat(var_dic_list()) "
    }
   },
   "types_to_exclude": [
    "module",
    "function",
    "builtin_function_or_method",
    "instance",
    "_Feature"
   ],
   "window_display": false
  }
 },
 "nbformat": 4,
 "nbformat_minor": 4
}
